{
 "cells": [
  {
   "cell_type": "markdown",
   "id": "7344d8b6",
   "metadata": {},
   "source": [
    "###  1) Create a vector (array) of 1XN dimension representing N-dimensional feature vector of a sample. Write a program to compute the mean and variance of the elements present in the array."
   ]
  },
  {
   "cell_type": "code",
   "execution_count": 24,
   "id": "6d274078",
   "metadata": {},
   "outputs": [
    {
     "name": "stdout",
     "output_type": "stream",
     "text": [
      "Mean of the feature vector: 0.49182911628360976\n",
      "Variance of the feature vector: 0.0697848930684446\n"
     ]
    }
   ],
   "source": [
    "import numpy as np\n",
    "\n",
    "# Define the dimension of the feature vector\n",
    "N = 50\n",
    "\n",
    "# Create a random feature vector of dimension 1xN\n",
    "feature_vector = np.random.rand(1, N)\n",
    "\n",
    "# Compute mean and variance of the feature vector\n",
    "mean = np.mean(feature_vector)\n",
    "variance = np.var(feature_vector)\n",
    "\n",
    "# Print mean and variance\n",
    "print(\"Mean of the feature vector:\", mean)\n",
    "print(\"Variance of the feature vector:\", variance)\n"
   ]
  },
  {
   "cell_type": "markdown",
   "id": "f2948bec",
   "metadata": {},
   "source": [
    "### 2) Create two vectors each of dimension 1XM each representing N-dimensional feature vector of a sample. Write a program to compute the Covariance between them."
   ]
  },
  {
   "cell_type": "code",
   "execution_count": 26,
   "id": "cdc0ce8b",
   "metadata": {},
   "outputs": [
    {
     "name": "stdout",
     "output_type": "stream",
     "text": [
      "[[ 0.09601541 -0.00755372]\n",
      " [-0.00755372  0.06844048]]\n"
     ]
    },
    {
     "data": {
      "text/plain": [
       "-0.007553717899180749"
      ]
     },
     "execution_count": 26,
     "metadata": {},
     "output_type": "execute_result"
    }
   ],
   "source": [
    "# Define the dimensions of the feature vectors\n",
    "n=30\n",
    "m=30\n",
    "\n",
    "# Create two random feature vectors of dimensions 1xM and 1xN\n",
    "fv1 = np.random.rand(1,n)\n",
    "fv2 = np.random.rand(1,m)\n",
    "\n",
    "# Compute covariance between the two feature vectors\n",
    "covariance = np.cov(fv1,fv2)\n",
    "print(covariance)\n",
    "Cov = covariance[0,1]\n",
    "Cov"
   ]
  },
  {
   "cell_type": "markdown",
   "id": "7c5a9edb",
   "metadata": {},
   "source": [
    "### 3) Create two vectors each of dimension 1XN. Write a program to compute the Correlation between them."
   ]
  },
  {
   "cell_type": "code",
   "execution_count": 27,
   "id": "0c4ed153",
   "metadata": {},
   "outputs": [
    {
     "name": "stdout",
     "output_type": "stream",
     "text": [
      "[[ 1.         -0.09318237]\n",
      " [-0.09318237  1.        ]]\n"
     ]
    },
    {
     "data": {
      "text/plain": [
       "-0.09318237281777333"
      ]
     },
     "execution_count": 27,
     "metadata": {},
     "output_type": "execute_result"
    }
   ],
   "source": [
    "correlation = np.corrcoef(fv1,fv2)\n",
    "print(correlation)\n",
    "Corel = correlation[0][1]\n",
    "Corel"
   ]
  },
  {
   "cell_type": "markdown",
   "id": "fe42f6ec",
   "metadata": {},
   "source": [
    "### 4) Create a Matrix of MXN dimension representing the M-dimensional feature vector for N number of samples i. e (i,j)th entry of the matrix represents the ith feature of jth sample. Write a program to compute the covariance matrix and correlation matrix. Comment on takeaways from these matrixes."
   ]
  },
  {
   "cell_type": "code",
   "execution_count": 22,
   "id": "062a53fe",
   "metadata": {},
   "outputs": [
    {
     "name": "stdout",
     "output_type": "stream",
     "text": [
      "Covariance matrix:\n",
      "[[0.06792124 0.02891624 0.00300271]\n",
      " [0.02891624 0.0765067  0.01641186]\n",
      " [0.00300271 0.01641186 0.08132587]]\n"
     ]
    }
   ],
   "source": [
    "# Define the dimensions of the feature matrix\n",
    "M = 3  # Number of features\n",
    "N = 5  # Number of samples\n",
    "\n",
    "# Create a matrix representing feature vectors for N samples\n",
    "data_matrix = np.random.rand(M, N)\n",
    "\n",
    "# Compute covariance matrix\n",
    "covariance_matrix = np.cov(data_matrix)\n",
    "\n",
    "# Compute correlation matrix\n",
    "correlation_matrix = np.corrcoef(data_matrix)\n",
    "\n",
    "# Print covariance matrix\n",
    "print(\"Covariance matrix:\")\n",
    "print(covariance_matrix)"
   ]
  }
 ],
 "metadata": {
  "kernelspec": {
   "display_name": "Python 3 (ipykernel)",
   "language": "python",
   "name": "python3"
  },
  "language_info": {
   "codemirror_mode": {
    "name": "ipython",
    "version": 3
   },
   "file_extension": ".py",
   "mimetype": "text/x-python",
   "name": "python",
   "nbconvert_exporter": "python",
   "pygments_lexer": "ipython3",
   "version": "3.11.4"
  }
 },
 "nbformat": 4,
 "nbformat_minor": 5
}
